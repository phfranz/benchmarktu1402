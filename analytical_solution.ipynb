{
 "cells": [
  {
   "cell_type": "code",
   "execution_count": 1,
   "metadata": {},
   "outputs": [],
   "source": [
    "from sympy import *\n",
    "from scipy.optimize import fsolve\n",
    "import numpy as np"
   ]
  },
  {
   "cell_type": "code",
   "execution_count": 60,
   "metadata": {},
   "outputs": [],
   "source": [
    "# define system matrix with boundary and transition conditions\n",
    "\n",
    "k = symbols(\"k\")\n",
    "\n",
    "l = 12.5\n",
    "\n",
    "A_full = Matrix([[1, 0, 1, 0, 0, 0, 0, 0],\n",
    "            [1, 0, -1, 0, 0, 0, 0, 0],\n",
    "            [0, sinh(k*l), 0, -sin(k*l), 0, 0, 0, 0,],\n",
    "            [0, 0, 0, 0, 1, 0, 1, 0],\n",
    "            [0, cosh(k*l), 0, -cos(k*l), 0, -1, 0, 1],\n",
    "            [0, -sinh(k*l), 0, -sin(k*l), 1, 0, -1, 0],\n",
    "            [0, 0, 0, 0, cosh(k*l), sinh(k*l), cos(k*l), -sin(k*l)],\n",
    "            [0, 0, 0, 0, cosh(k*l), sinh(k*l), -cos(k*l), sin(k*l)]])\n",
    "\n",
    "A = Matrix([[sinh(k*l), -sin(k*l), 0, 0, 0, 0,],\n",
    "            [ 0, 0, 1, 0, 1, 0],\n",
    "            [cosh(k*l), -cos(k*l), 0, -1, 0,1],\n",
    "            [-sinh(k*l), -sin(k*l), 1, 0, -1, 0],\n",
    "            [0, 0, cosh(k*l), sinh(k*l), cos(k*l), -sin(k*l)],\n",
    "            [0, 0, cosh(k*l), sinh(k*l), -cos(k*l), sin(k*l)]])\n",
    "\n"
   ]
  },
  {
   "cell_type": "code",
   "execution_count": 64,
   "metadata": {},
   "outputs": [
    {
     "data": {
      "text/latex": [
       "$\\displaystyle - 8 \\sin^{2}{\\left(12.5 k \\right)} \\sinh{\\left(12.5 k \\right)} \\cosh{\\left(12.5 k \\right)} + 8 \\sin{\\left(12.5 k \\right)} \\cos{\\left(12.5 k \\right)} \\sinh^{2}{\\left(12.5 k \\right)}$"
      ],
      "text/plain": [
       "-8*sin(12.5*k)**2*sinh(12.5*k)*cosh(12.5*k) + 8*sin(12.5*k)*cos(12.5*k)*sinh(12.5*k)**2"
      ]
     },
     "execution_count": 64,
     "metadata": {},
     "output_type": "execute_result"
    }
   ],
   "source": [
    "det_A = det(A)\n",
    "det_A"
   ]
  },
  {
   "cell_type": "code",
   "execution_count": null,
   "metadata": {},
   "outputs": [],
   "source": [
    "k_values = roots(det_A, k, 1.0)\n",
    "k_values"
   ]
  },
  {
   "cell_type": "code",
   "execution_count": 65,
   "metadata": {},
   "outputs": [],
   "source": [
    "lam_f = lambdify(k, det_A)"
   ]
  },
  {
   "cell_type": "code",
   "execution_count": 73,
   "metadata": {},
   "outputs": [
    {
     "data": {
      "text/plain": [
       "array([0.25132741])"
      ]
     },
     "execution_count": 73,
     "metadata": {},
     "output_type": "execute_result"
    }
   ],
   "source": [
    "\n",
    "\n",
    "#sol = fsolve(lam_f, bracket=[0.1,15])\n",
    "sol = fsolve(lam_f, 0.23, xtol=1.49012e-12)\n",
    "sol "
   ]
  },
  {
   "cell_type": "code",
   "execution_count": 79,
   "metadata": {},
   "outputs": [
    {
     "data": {
      "text/plain": [
       "[np.float64(6.743822142486906),\n",
       " np.float64(26.975288569947622),\n",
       " np.float64(60.694399282382136)]"
      ]
     },
     "execution_count": 79,
     "metadata": {},
     "output_type": "execute_result"
    }
   ],
   "source": [
    "# eigenfrequencies\n",
    "\n",
    "I = 0.6**3*0.1/12 # m^3\n",
    "EI = I * 3e10 \n",
    "mu = 0.6*0.1*2000\n",
    "\n",
    "eigenfreq_list = []\n",
    "\n",
    "for j in range(1,4):\n",
    "\n",
    "    cur_val = (j*0.2513274123)**4*EI/mu #0.2513274123\n",
    "\n",
    "    eigenfreq_list.append(np.sqrt(cur_val)/2/np.pi)\n",
    "\n",
    "    \n",
    "eigenfreq_list\n"
   ]
  },
  {
   "cell_type": "code",
   "execution_count": 82,
   "metadata": {},
   "outputs": [],
   "source": [
    "def func(x):\n",
    "\n",
    "    return -8*np.sin(l*x)*np.cosh(l*x)+8*np.cos(l*x)*np.sinh(l*x)"
   ]
  },
  {
   "cell_type": "code",
   "execution_count": 92,
   "metadata": {},
   "outputs": [
    {
     "data": {
      "text/plain": [
       "array([0.31412818])"
      ]
     },
     "execution_count": 92,
     "metadata": {},
     "output_type": "execute_result"
    }
   ],
   "source": [
    "sol2 = fsolve(func, 0.45, xtol=1.49012e-12)\n",
    "sol2"
   ]
  },
  {
   "cell_type": "code",
   "execution_count": 1,
   "metadata": {},
   "outputs": [
    {
     "ename": "NameError",
     "evalue": "name 'np' is not defined",
     "output_type": "error",
     "traceback": [
      "\u001b[1;31m---------------------------------------------------------------------------\u001b[0m",
      "\u001b[1;31mNameError\u001b[0m                                 Traceback (most recent call last)",
      "Cell \u001b[1;32mIn[1], line 1\u001b[0m\n\u001b[1;32m----> 1\u001b[0m shapes \u001b[38;5;241m=\u001b[39m \u001b[43mnp\u001b[49m\u001b[38;5;241m.\u001b[39mloadtxt(\u001b[38;5;124m\"\u001b[39m\u001b[38;5;124mJob-1_modes.dat\u001b[39m\u001b[38;5;124m\"\u001b[39m)\n",
      "\u001b[1;31mNameError\u001b[0m: name 'np' is not defined"
     ]
    }
   ],
   "source": [
    "shapes = np.loadtxt(\"Job-1_modes.dat\")"
   ]
  },
  {
   "cell_type": "code",
   "execution_count": 94,
   "metadata": {},
   "outputs": [],
   "source": [
    "import matplotlib.pyplot as plt\n",
    "\n"
   ]
  },
  {
   "cell_type": "code",
   "execution_count": 103,
   "metadata": {},
   "outputs": [
    {
     "data": {
      "text/plain": [
       "(120, 10)"
      ]
     },
     "execution_count": 103,
     "metadata": {},
     "output_type": "execute_result"
    }
   ],
   "source": [
    "shapes.shape"
   ]
  },
  {
   "cell_type": "code",
   "execution_count": 104,
   "metadata": {},
   "outputs": [],
   "source": [
    "shapes = np.transpose(shapes)"
   ]
  },
  {
   "cell_type": "code",
   "execution_count": 105,
   "metadata": {},
   "outputs": [
    {
     "data": {
      "text/plain": [
       "array([[-2.78336571e-04, -8.96996043e-04,  4.88691913e-05,\n",
       "        -8.72830031e-04,  3.54674284e-04],\n",
       "       [-2.73871605e-04, -1.00313315e-03,  8.82063349e-05,\n",
       "        -9.78985823e-04,  4.26499513e-04],\n",
       "       [ 4.60102248e-04,  2.49413210e-03, -3.86759612e-04,\n",
       "         2.45352715e-03, -1.16382159e-03],\n",
       "       [ 5.55936917e-04,  2.54675690e-03, -3.11503116e-04,\n",
       "         2.49915840e-03, -1.10501629e-03],\n",
       "       [-9.14098275e-04, -4.14100588e-03,  4.28903055e-04,\n",
       "        -4.06797782e-03,  1.62652933e-03]])"
      ]
     },
     "execution_count": 105,
     "metadata": {},
     "output_type": "execute_result"
    }
   ],
   "source": [
    "shapes[0:5,0:5]"
   ]
  },
  {
   "cell_type": "code",
   "execution_count": null,
   "metadata": {},
   "outputs": [],
   "source": []
  }
 ],
 "metadata": {
  "kernelspec": {
   "display_name": "pi-node",
   "language": "python",
   "name": "python3"
  },
  "language_info": {
   "codemirror_mode": {
    "name": "ipython",
    "version": 3
   },
   "file_extension": ".py",
   "mimetype": "text/x-python",
   "name": "python",
   "nbconvert_exporter": "python",
   "pygments_lexer": "ipython3",
   "version": "3.11.4"
  }
 },
 "nbformat": 4,
 "nbformat_minor": 2
}
